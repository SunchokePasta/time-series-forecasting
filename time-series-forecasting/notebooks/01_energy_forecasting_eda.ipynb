{
 "cells": [
  {
   "cell_type": "code",
   "execution_count": null,
   "id": "bd460f01-a77e-4124-9aee-4018fe77350d",
   "metadata": {},
   "outputs": [],
   "source": []
  }
 ],
 "metadata": {
  "kernelspec": {
   "display_name": "",
   "name": ""
  },
  "language_info": {
   "name": ""
  }
 },
 "nbformat": 4,
 "nbformat_minor": 5
}
